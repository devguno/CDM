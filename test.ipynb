{
 "cells": [
  {
   "cell_type": "code",
   "execution_count": 1,
   "metadata": {},
   "outputs": [],
   "source": [
    "import pyautogui\n",
    "import time\n",
    "import pyperclip\n",
    "import pytesseract\n",
    "from PIL import ImageGrab\n",
    "import re"
   ]
  },
  {
   "cell_type": "code",
   "execution_count": 2,
   "metadata": {},
   "outputs": [],
   "source": [
    "import pytesseract\n",
    "\n",
    "# Replace the path below with the actual path where Tesseract is installed\n",
    "pytesseract.pytesseract.tesseract_cmd = r'C:\\Program Files\\Tesseract-OCR\\tesseract.exe'\n"
   ]
  },
  {
   "cell_type": "code",
   "execution_count": 3,
   "metadata": {},
   "outputs": [],
   "source": [
    "# 이미지에서 텍스트 추출 및 숫자 반환\n",
    "def extract_number_from_image(x1, y1, x2, y2):\n",
    "    screenshot = ImageGrab.grab(bbox=(x1, y1, x2, y2))\n",
    "    text = pytesseract.image_to_string(screenshot)\n",
    "    numbers = re.findall(r'\\d+', text)\n",
    "    return int(numbers[0]) if numbers else None"
   ]
  },
  {
   "cell_type": "code",
   "execution_count": 22,
   "metadata": {},
   "outputs": [
    {
     "name": "stdout",
     "output_type": "stream",
     "text": [
      "Extracted Time: \n"
     ]
    }
   ],
   "source": [
    "import os\n",
    "import pyautogui\n",
    "import time\n",
    "import pyperclip\n",
    "import pytesseract\n",
    "from PIL import ImageGrab\n",
    "import re\n",
    "\n",
    "\n",
    "pytesseract.pytesseract.tesseract_cmd = r'C:\\Program Files\\Tesseract-OCR\\tesseract.exe'\n",
    "time.sleep(2)\n",
    "\n",
    "# OCR for the exam time\n",
    "time_image = ImageGrab.grab(bbox=(1020, 660, 1160, 690))\n",
    "time_text = pytesseract.image_to_string(time_image).strip()\n",
    "print(f'Extracted Time: {time_text}')\n",
    "# # Convert time to desired format HHMMSS\n",
    "# match = re.search(r'(\\d{2}):(\\d{2}):(\\d{2})', time_text)\n",
    "# if match:\n",
    "#     hour, minute, second = match.groups()\n",
    "#     hookuptime = f\"{hour}{minute}{second}\"\n",
    "# else:\n",
    "#     hookuptime = None\n",
    "\n",
    "# print(f'Extracted Time: {hookuptime}')"
   ]
  },
  {
   "cell_type": "code",
   "execution_count": 24,
   "metadata": {},
   "outputs": [
    {
     "name": "stdout",
     "output_type": "stream",
     "text": [
      "Extracted Text: 17:33:00\n"
     ]
    }
   ],
   "source": [
    "from PIL import ImageEnhance, ImageOps\n",
    "time.sleep(2)\n",
    "\n",
    "# Capture the image\n",
    "time_image = ImageGrab.grab(bbox=(1020, 660, 1160, 690))\n",
    "\n",
    "# Convert to grayscale\n",
    "time_image = time_image.convert('L')\n",
    "\n",
    "# Increase contrast\n",
    "enhancer = ImageEnhance.Contrast(time_image)\n",
    "time_image = enhancer.enhance(2)  # Increase contrast\n",
    "\n",
    "# Optional: Invert colors if needed (for dark text on light background)\n",
    "time_image = ImageOps.invert(time_image)\n",
    "\n",
    "# Resize the image to improve OCR accuracy\n",
    "time_image = time_image.resize((time_image.width * 2, time_image.height * 2))\n",
    "\n",
    "# OCR\n",
    "time_text = pytesseract.image_to_string(time_image, config='--psm 7').strip()\n",
    "print(f'Extracted Text: {time_text}')\n"
   ]
  }
 ],
 "metadata": {
  "kernelspec": {
   "display_name": "Python 3",
   "language": "python",
   "name": "python3"
  },
  "language_info": {
   "codemirror_mode": {
    "name": "ipython",
    "version": 3
   },
   "file_extension": ".py",
   "mimetype": "text/x-python",
   "name": "python",
   "nbconvert_exporter": "python",
   "pygments_lexer": "ipython3",
   "version": "3.12.5"
  }
 },
 "nbformat": 4,
 "nbformat_minor": 2
}
