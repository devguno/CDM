{
 "cells": [
  {
   "cell_type": "code",
   "execution_count": 1,
   "metadata": {},
   "outputs": [],
   "source": [
    "import pyautogui\n",
    "import time\n",
    "import pyperclip\n",
    "import pytesseract\n",
    "from PIL import ImageGrab\n",
    "import re"
   ]
  },
  {
   "cell_type": "code",
   "execution_count": 2,
   "metadata": {},
   "outputs": [],
   "source": [
    "import pytesseract\n",
    "\n",
    "# Replace the path below with the actual path where Tesseract is installed\n",
    "pytesseract.pytesseract.tesseract_cmd = r'C:\\Program Files\\Tesseract-OCR\\tesseract.exe'\n"
   ]
  },
  {
   "cell_type": "code",
   "execution_count": 3,
   "metadata": {},
   "outputs": [],
   "source": [
    "# 이미지에서 텍스트 추출 및 숫자 반환\n",
    "def extract_number_from_image(x1, y1, x2, y2):\n",
    "    screenshot = ImageGrab.grab(bbox=(x1, y1, x2, y2))\n",
    "    text = pytesseract.image_to_string(screenshot)\n",
    "    numbers = re.findall(r'\\d+', text)\n",
    "    return int(numbers[0]) if numbers else None"
   ]
  },
  {
   "cell_type": "code",
   "execution_count": 4,
   "metadata": {},
   "outputs": [
    {
     "name": "stdout",
     "output_type": "stream",
     "text": [
      "Extracted number: 308\n"
     ]
    }
   ],
   "source": [
    "time.sleep(2)\n",
    "pyautogui.click(350, 70)\n",
    "time.sleep(2)\n",
    "pyautogui.moveTo(1304, 66)\n",
    "pyautogui.dragTo(1304, 895, duration=2.0)\n",
    "pyautogui.keyDown('shift')\n",
    "pyautogui.click(158, 902)\n",
    "pyautogui.keyUp('shift')\n",
    "time.sleep(2)\n",
    "pyautogui.click(1395, 215)\n",
    "time.sleep(2)\n",
    "number_extracted = extract_number_from_image(656, 436, 870, 470)\n",
    "print(f\"Extracted number: {number_extracted}\")\n"
   ]
  }
 ],
 "metadata": {
  "kernelspec": {
   "display_name": "Python 3",
   "language": "python",
   "name": "python3"
  },
  "language_info": {
   "codemirror_mode": {
    "name": "ipython",
    "version": 3
   },
   "file_extension": ".py",
   "mimetype": "text/x-python",
   "name": "python",
   "nbconvert_exporter": "python",
   "pygments_lexer": "ipython3",
   "version": "3.12.5"
  }
 },
 "nbformat": 4,
 "nbformat_minor": 2
}
