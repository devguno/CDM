{
 "cells": [
  {
   "cell_type": "code",
   "execution_count": null,
   "metadata": {},
   "outputs": [
    {
     "name": "stdout",
     "output_type": "stream",
     "text": [
      "CSV 파일이 생성되었습니다: /Users/guno/Library/CloudStorage/OneDrive-Personal/SNUH BMI Lab/CDM/bio_signal/bio_signal_holter.csv\n"
     ]
    }
   ],
   "source": [
    "import pandas as pd\n",
    "\n",
    "def convert_txt_to_csv():\n",
    "    # 입력 파일(텍스트 파일) 경로와 출력 파일(CSV 파일) 경로 설정\n",
    "    input_file = '/Users/guno/Library/CloudStorage/OneDrive-Personal/SNUH BMI Lab/CDM/bio_signal/bio_signal_holter.txt'\n",
    "    output_file = '/Users/guno/Library/CloudStorage/OneDrive-Personal/SNUH BMI Lab/CDM/bio_signal/bio_signal_holter.csv'\n",
    "    \n",
    "    # 텍스트 파일 읽기 (콤마 구분)\n",
    "    df = pd.read_csv(input_file, delimiter=',')\n",
    "    \n",
    "    # DataFrame을 CSV 파일로 저장 (인덱스 없이)\n",
    "    df.to_csv(output_file, index=False)\n",
    "    print(f\"CSV 파일이 생성되었습니다: {output_file}\")\n",
    "\n",
    "if __name__ == '__main__':\n",
    "    convert_txt_to_csv()"
   ]
  }
 ],
 "metadata": {
  "kernelspec": {
   "display_name": "base",
   "language": "python",
   "name": "python3"
  },
  "language_info": {
   "codemirror_mode": {
    "name": "ipython",
    "version": 3
   },
   "file_extension": ".py",
   "mimetype": "text/x-python",
   "name": "python",
   "nbconvert_exporter": "python",
   "pygments_lexer": "ipython3",
   "version": "3.12.2"
  }
 },
 "nbformat": 4,
 "nbformat_minor": 2
}
