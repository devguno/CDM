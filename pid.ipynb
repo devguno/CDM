{
 "cells": [
  {
   "cell_type": "code",
   "execution_count": 1,
   "metadata": {},
   "outputs": [
    {
     "name": "stdout",
     "output_type": "stream",
     "text": [
      "Patient IDs have been saved to C:\\extract\\patient_ids.csv\n"
     ]
    }
   ],
   "source": [
    "import os\n",
    "import csv\n",
    "\n",
    "# 경로 설정\n",
    "directory = r\"C:\\extract\"\n",
    "\n",
    "# patient ID 리스트를 저장할 리스트\n",
    "patient_ids = []\n",
    "\n",
    "# 파일명이 .SIG로 끝나는 파일만 처리\n",
    "for filename in os.listdir(directory):\n",
    "    if filename.endswith(\".SIG\"):\n",
    "        # 파일명을 '_'로 분리하여 마지막 부분이 patient id임을 추출\n",
    "        patient_id = filename.split('_')[-1].replace('.SIG', '')\n",
    "        patient_ids.append(patient_id)\n",
    "\n",
    "# CSV 파일로 patient id 리스트 저장\n",
    "csv_filename = os.path.join(directory, 'patient_ids.csv')\n",
    "with open(csv_filename, mode='w', newline='') as file:\n",
    "    writer = csv.writer(file)\n",
    "    writer.writerow([\"Patient ID\"])\n",
    "    for patient_id in patient_ids:\n",
    "        writer.writerow([patient_id])\n",
    "\n",
    "print(f\"Patient IDs have been saved to {csv_filename}\")\n"
   ]
  },
  {
   "cell_type": "code",
   "execution_count": 4,
   "metadata": {},
   "outputs": [
    {
     "name": "stdout",
     "output_type": "stream",
     "text": [
      "중복되는 ID:\n",
      "[74123360, 74399871]\n"
     ]
    }
   ],
   "source": [
    "import pandas as pd\n",
    "\n",
    "# 파일 경로 설정\n",
    "lqts_file = r\"C:\\LQTS.csv\"\n",
    "patient_ids_file = r\"C:\\patient_ids.csv\"\n",
    "\n",
    "# CSV 파일 로드\n",
    "lqts_df = pd.read_csv(lqts_file, encoding='latin1')  # 또는 'iso-8859-1', 'cp1252'\n",
    "patient_ids_df = pd.read_csv(patient_ids_file, encoding='utf-8')\n",
    "\n",
    "# 'patient_number' 컬럼과 'Patient ID' 컬럼의 중복 항목 찾기\n",
    "common_ids = pd.merge(lqts_df, patient_ids_df, left_on='patient_number', right_on='Patient ID')\n",
    "\n",
    "# 중복되는 ID 출력\n",
    "print(\"중복되는 ID:\")\n",
    "print(common_ids['patient_number'].tolist())\n"
   ]
  }
 ],
 "metadata": {
  "kernelspec": {
   "display_name": "Python 3",
   "language": "python",
   "name": "python3"
  },
  "language_info": {
   "codemirror_mode": {
    "name": "ipython",
    "version": 3
   },
   "file_extension": ".py",
   "mimetype": "text/x-python",
   "name": "python",
   "nbconvert_exporter": "python",
   "pygments_lexer": "ipython3",
   "version": "3.12.5"
  }
 },
 "nbformat": 4,
 "nbformat_minor": 2
}
