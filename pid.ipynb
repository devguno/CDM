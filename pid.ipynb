{
 "cells": [
  {
   "cell_type": "code",
   "execution_count": 1,
   "metadata": {},
   "outputs": [
    {
     "name": "stdout",
     "output_type": "stream",
     "text": [
      "Patient IDs have been saved to D:\\extract\\patient_ids.csv\n"
     ]
    }
   ],
   "source": [
    "import os\n",
    "import csv\n",
    "\n",
    "# 경로 설정\n",
    "directory = r\"D:\\extract\"\n",
    "\n",
    "# patient ID 리스트를 저장할 리스트\n",
    "patient_ids = []\n",
    "\n",
    "# 파일명이 .SIG로 끝나는 파일만 처리\n",
    "for filename in os.listdir(directory):\n",
    "    if filename.endswith(\".SIG\"):\n",
    "        # 파일명을 '_'로 분리하여 마지막 부분이 patient id임을 추출\n",
    "        patient_id = filename.split('_')[-1].replace('.SIG', '')\n",
    "        patient_ids.append(patient_id)\n",
    "\n",
    "# CSV 파일로 patient id 리스트 저장\n",
    "csv_filename = os.path.join(directory, 'patient_ids.csv')\n",
    "with open(csv_filename, mode='w', newline='') as file:\n",
    "    writer = csv.writer(file)\n",
    "    writer.writerow([\"Patient ID\"])\n",
    "    for patient_id in patient_ids:\n",
    "        writer.writerow([patient_id])\n",
    "\n",
    "print(f\"Patient IDs have been saved to {csv_filename}\")\n"
   ]
  },
  {
   "cell_type": "code",
   "execution_count": 2,
   "metadata": {},
   "outputs": [
    {
     "name": "stdout",
     "output_type": "stream",
     "text": [
      "중복되는 ID:\n",
      "[78531514, 78457661, 78293153, 77548317, 77464921, 77464921, 77464921, 76833245, 75158958, 78158250, 74901717, 76098732, 74233584, 74233584, 75116682]\n"
     ]
    }
   ],
   "source": [
    "import pandas as pd\n",
    "\n",
    "# 파일 경로 설정\n",
    "lqts_file = r\"C:\\LQTS.csv\"\n",
    "patient_ids_file = r\"D:\\patient_ids.csv\"\n",
    "\n",
    "# CSV 파일 로드\n",
    "lqts_df = pd.read_csv(lqts_file, encoding='latin1')  # 또는 'iso-8859-1', 'cp1252'\n",
    "patient_ids_df = pd.read_csv(patient_ids_file, encoding='utf-8')\n",
    "\n",
    "# 'patient_number' 컬럼과 'Patient ID' 컬럼의 중복 항목 찾기\n",
    "common_ids = pd.merge(lqts_df, patient_ids_df, left_on='patient_number', right_on='Patient ID')\n",
    "\n",
    "# 중복되는 ID 출력\n",
    "print(\"중복되는 ID:\")\n",
    "print(common_ids['patient_number'].tolist())\n"
   ]
  },
  {
   "cell_type": "code",
   "execution_count": 4,
   "metadata": {},
   "outputs": [
    {
     "name": "stdout",
     "output_type": "stream",
     "text": [
      "중복된 ID가 D:\\common_patient_ids.csv에 저장되었습니다.\n"
     ]
    }
   ],
   "source": [
    "# 중복된 ID를 CSV 파일로 저장\n",
    "output_file = r\"D:\\common_patient_ids.csv\"\n",
    "common_ids[['patient_number']].to_csv(output_file, index=False)\n",
    "\n",
    "print(f\"중복된 ID가 {output_file}에 저장되었습니다.\")"
   ]
  }
 ],
 "metadata": {
  "kernelspec": {
   "display_name": "Python 3",
   "language": "python",
   "name": "python3"
  },
  "language_info": {
   "codemirror_mode": {
    "name": "ipython",
    "version": 3
   },
   "file_extension": ".py",
   "mimetype": "text/x-python",
   "name": "python",
   "nbconvert_exporter": "python",
   "pygments_lexer": "ipython3",
   "version": "3.12.0"
  }
 },
 "nbformat": 4,
 "nbformat_minor": 2
}
