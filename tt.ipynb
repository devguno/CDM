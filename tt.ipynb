{
 "cells": [
  {
   "cell_type": "code",
   "execution_count": 1,
   "metadata": {},
   "outputs": [
    {
     "name": "stdout",
     "output_type": "stream",
     "text": [
      "Only in C://extract_pc2:\n",
      "\n",
      "Only in F://extract_pc2:\n",
      "202103_167_75399401.SIG\n",
      "202103_166_75399401.pdf\n"
     ]
    }
   ],
   "source": [
    "import os\n",
    "\n",
    "# 두 경로 설정\n",
    "path1 = \"C://extract_pc2\"\n",
    "path2 = \"F://extract_pc2\"\n",
    "\n",
    "# 경로에서 파일 목록을 가져오는 함수\n",
    "def get_files_in_directory(path):\n",
    "    files = []\n",
    "    for root, dirs, filenames in os.walk(path):\n",
    "        for filename in filenames:\n",
    "            files.append(os.path.relpath(os.path.join(root, filename), path))\n",
    "    return set(files)\n",
    "\n",
    "# 각 경로에서 파일 목록 가져오기\n",
    "files_in_path1 = get_files_in_directory(path1)\n",
    "files_in_path2 = get_files_in_directory(path2)\n",
    "\n",
    "# 한쪽 경로에만 있는 파일 찾기\n",
    "only_in_path1 = files_in_path1 - files_in_path2\n",
    "only_in_path2 = files_in_path2 - files_in_path1\n",
    "\n",
    "# 결과 출력\n",
    "print(f\"Only in {path1}:\")\n",
    "for file in only_in_path1:\n",
    "    print(file)\n",
    "\n",
    "print(f\"\\nOnly in {path2}:\")\n",
    "for file in only_in_path2:\n",
    "    print(file)"
   ]
  }
 ],
 "metadata": {
  "kernelspec": {
   "display_name": "Python 3",
   "language": "python",
   "name": "python3"
  },
  "language_info": {
   "codemirror_mode": {
    "name": "ipython",
    "version": 3
   },
   "file_extension": ".py",
   "mimetype": "text/x-python",
   "name": "python",
   "nbconvert_exporter": "python",
   "pygments_lexer": "ipython3",
   "version": "3.12.5"
  }
 },
 "nbformat": 4,
 "nbformat_minor": 2
}
