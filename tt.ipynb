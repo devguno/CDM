{
 "cells": [
  {
   "cell_type": "code",
   "execution_count": 1,
   "metadata": {},
   "outputs": [
    {
     "name": "stdout",
     "output_type": "stream",
     "text": [
      "Only in C://extract_pc2:\n",
      "\n",
      "Only in F://extract_pc2:\n",
      "202103_167_75399401.SIG\n",
      "202103_166_75399401.pdf\n"
     ]
    }
   ],
   "source": [
    "import os\n",
    "\n",
    "# 두 경로 설정\n",
    "path1 = \"C://extract_pc2\"\n",
    "path2 = \"F://extract_pc2\"\n",
    "\n",
    "# 경로에서 파일 목록을 가져오는 함수\n",
    "def get_files_in_directory(path):\n",
    "    files = []\n",
    "    for root, dirs, filenames in os.walk(path):\n",
    "        for filename in filenames:\n",
    "            files.append(os.path.relpath(os.path.join(root, filename), path))\n",
    "    return set(files)\n",
    "\n",
    "# 각 경로에서 파일 목록 가져오기\n",
    "files_in_path1 = get_files_in_directory(path1)\n",
    "files_in_path2 = get_files_in_directory(path2)\n",
    "\n",
    "# 한쪽 경로에만 있는 파일 찾기\n",
    "only_in_path1 = files_in_path1 - files_in_path2\n",
    "only_in_path2 = files_in_path2 - files_in_path1\n",
    "\n",
    "# 결과 출력\n",
    "print(f\"Only in {path1}:\")\n",
    "for file in only_in_path1:\n",
    "    print(file)\n",
    "\n",
    "print(f\"\\nOnly in {path2}:\")\n",
    "for file in only_in_path2:\n",
    "    print(file)"
   ]
  },
  {
   "cell_type": "code",
   "execution_count": 4,
   "metadata": {},
   "outputs": [
    {
     "name": "stdout",
     "output_type": "stream",
     "text": [
      "매칭되지 않은 건수: 67\n",
      "person_id 컬럼이 추가된 EPS.csv 파일이 저장되었습니다.\n"
     ]
    }
   ],
   "source": [
    "import pandas as pd\n",
    "\n",
    "# EPS.csv 파일 불러오기\n",
    "eps_df = pd.read_csv(r'C:\\Users\\SNUH\\Desktop\\EPS.csv', encoding='cp949')\n",
    "\n",
    "# holter_pid_202409091527.csv 파일 불러오기\n",
    "holter_df = pd.read_csv(r'C:\\Users\\SNUH\\holter_pid_202409091527.csv')\n",
    "\n",
    "# 두 데이터프레임을 id (EPS)와 pt_no (holter) 기준으로 병합 (left join)\n",
    "merged_df = pd.merge(eps_df, holter_df[['pt_no', 'person_id']], left_on='id', right_on='pt_no', how='left')\n",
    "\n",
    "# 병합된 데이터프레임에서 필요한 person_id 컬럼만 추가\n",
    "eps_df['person_id'] = merged_df['person_id']\n",
    "\n",
    "# 매칭되지 않은 데이터 (person_id가 NaN인 행) 확인\n",
    "unmatched_count = eps_df['person_id'].isna().sum()\n",
    "\n",
    "# 결과를 EPS_with_person_id.csv 파일에 다시 저장\n",
    "eps_df.to_csv(r'C:\\Users\\SNUH\\Desktop\\EPS_with_person_id.csv', encoding='cp949', index=False)\n",
    "\n",
    "print(f\"매칭되지 않은 건수: {unmatched_count}\")\n",
    "print(\"person_id 컬럼이 추가된 EPS.csv 파일이 저장되었습니다.\")"
   ]
  },
  {
   "cell_type": "code",
   "execution_count": 9,
   "metadata": {},
   "outputs": [
    {
     "name": "stdout",
     "output_type": "stream",
     "text": [
      "매칭되지 않은 건수: 47\n",
      "person_id 컬럼이 추가된 EPS.csv 파일이 저장되었습니다.\n"
     ]
    }
   ],
   "source": [
    "import pandas as pd\n",
    "\n",
    "# EPS.csv 파일 불러오기\n",
    "eps_df = pd.read_csv(r'C:\\Users\\SNUH\\Desktop\\EPS(without CHD, WPW,CMP).csv', encoding='cp949')\n",
    "\n",
    "# holter_pid_202409091527.csv 파일 불러오기\n",
    "holter_df = pd.read_csv(r'C:\\Users\\SNUH\\holter_pid_202409091527.csv')\n",
    "\n",
    "# 두 데이터프레임을 id (EPS)와 pt_no (holter) 기준으로 병합 (left join)\n",
    "merged_df = pd.merge(eps_df, holter_df[['pt_no', 'person_id']], left_on='id', right_on='pt_no', how='left')\n",
    "\n",
    "# 병합된 데이터프레임에서 필요한 person_id 컬럼만 추가\n",
    "eps_df['person_id'] = merged_df['person_id']\n",
    "\n",
    "# 매칭되지 않은 데이터 (person_id가 NaN인 행) 확인\n",
    "unmatched_count = eps_df['person_id'].isna().sum()\n",
    "\n",
    "# 결과를 EPS_with_person_id.csv 파일에 다시 저장\n",
    "eps_df.to_csv(r'C:\\Users\\SNUH\\Desktop\\EPS(without CHD, WPW,CMP)_with_person_id.csv', encoding='cp949', index=False)\n",
    "\n",
    "print(f\"매칭되지 않은 건수: {unmatched_count}\")\n",
    "print(\"person_id 컬럼이 추가된 EPS.csv 파일이 저장되었습니다.\")"
   ]
  },
  {
   "cell_type": "code",
   "execution_count": 11,
   "metadata": {},
   "outputs": [
    {
     "name": "stdout",
     "output_type": "stream",
     "text": [
      "매칭되지 않은 건수: 0\n",
      "person_id 컬럼이 추가된 파일이 저장되었습니다.\n"
     ]
    }
   ],
   "source": [
    "import pandas as pd\n",
    "\n",
    "# EPS.csv 파일 불러오기\n",
    "eps_df = pd.read_csv(r'C:\\Users\\SNUH\\Desktop\\holter_data_pt_.csv')\n",
    "\n",
    "# holter_pid_202409091527.csv 파일 불러오기\n",
    "holter_df = pd.read_csv(r'C:\\Users\\SNUH\\OneDrive\\SNUH BMI Lab\\CDM\\Holter\\pid\\pt_no_person_id.csv')\n",
    "\n",
    "# 두 데이터프레임을 id (EPS)와 pt_no (holter) 기준으로 병합 (left join)\n",
    "merged_df = pd.merge(eps_df, holter_df[['pt_no', 'person_id']], left_on='pt_no', right_on='pt_no', how='left')\n",
    "\n",
    "# 병합된 데이터프레임에서 필요한 person_id 컬럼만 추가\n",
    "eps_df['person_id'] = merged_df['person_id']\n",
    "\n",
    "# 매칭되지 않은 데이터 (person_id가 NaN인 행) 확인\n",
    "unmatched_count = eps_df['person_id'].isna().sum()\n",
    "\n",
    "# 결과를 EPS_with_person_id.csv 파일에 다시 저장\n",
    "eps_df.to_csv(r'C:\\Users\\SNUH\\Desktop\\holter_data.csv', index=False)\n",
    "\n",
    "print(f\"매칭되지 않은 건수: {unmatched_count}\")\n",
    "print(\"person_id 컬럼이 추가된 파일이 저장되었습니다.\")"
   ]
  }
 ],
 "metadata": {
  "kernelspec": {
   "display_name": "Python 3",
   "language": "python",
   "name": "python3"
  },
  "language_info": {
   "codemirror_mode": {
    "name": "ipython",
    "version": 3
   },
   "file_extension": ".py",
   "mimetype": "text/x-python",
   "name": "python",
   "nbconvert_exporter": "python",
   "pygments_lexer": "ipython3",
   "version": "3.12.5"
  }
 },
 "nbformat": 4,
 "nbformat_minor": 2
}
