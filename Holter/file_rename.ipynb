{
 "cells": [
  {
   "cell_type": "markdown",
   "metadata": {},
   "source": [
    "## PID to CDM_ID File Renaming"
   ]
  },
  {
   "cell_type": "code",
   "execution_count": 1,
   "metadata": {},
   "outputs": [
    {
     "name": "stderr",
     "output_type": "stream",
     "text": [
      "Renaming files:   3%|▎         | 466/14764 [04:58<1:21:47,  2.91it/s]"
     ]
    },
    {
     "name": "stdout",
     "output_type": "stream",
     "text": [
      "Error processing file: 41215_09225635.hea\n",
      "Error processing file: 41215_09225635.pdf\n",
      "Error processing file: 41215_09225635.SIG\n"
     ]
    },
    {
     "name": "stderr",
     "output_type": "stream",
     "text": [
      "Renaming files:   5%|▌         | 792/14764 [08:38<3:08:54,  1.23it/s]"
     ]
    },
    {
     "name": "stdout",
     "output_type": "stream",
     "text": [
      "Error processing file: 41547_09310108.hea\n",
      "Error processing file: 41547_09310108.pdf\n",
      "Error processing file: 41547_09310108.SIG\n"
     ]
    },
    {
     "name": "stderr",
     "output_type": "stream",
     "text": [
      "Renaming files:  13%|█▎        | 1963/14764 [21:38<1:15:09,  2.84it/s]"
     ]
    },
    {
     "name": "stdout",
     "output_type": "stream",
     "text": [
      "Error processing file: 41942_09590315.hea\n",
      "Error processing file: 41942_09590315.pdf\n",
      "Error processing file: 41942_09590315.SIG\n"
     ]
    },
    {
     "name": "stderr",
     "output_type": "stream",
     "text": [
      "Renaming files:  13%|█▎        | 1969/14764 [21:40<1:03:00,  3.38it/s]"
     ]
    },
    {
     "name": "stdout",
     "output_type": "stream",
     "text": [
      "Error processing file: 41944_34416489.hea\n",
      "Error processing file: 41944_34416489.pdf\n",
      "Error processing file: 41944_34416489.SIG\n"
     ]
    },
    {
     "name": "stderr",
     "output_type": "stream",
     "text": [
      "Renaming files:  17%|█▋        | 2533/14764 [27:53<1:07:03,  3.04it/s]"
     ]
    },
    {
     "name": "stdout",
     "output_type": "stream",
     "text": [
      "Error processing file: 42135_48875905.hea\n",
      "Error processing file: 42135_48875905.pdf\n",
      "Error processing file: 42135_48875905.SIG\n"
     ]
    },
    {
     "name": "stderr",
     "output_type": "stream",
     "text": [
      "Renaming files:  19%|█▉        | 2770/14764 [30:28<1:09:14,  2.89it/s]"
     ]
    },
    {
     "name": "stdout",
     "output_type": "stream",
     "text": [
      "Error processing file: 42216_09295595.hea\n",
      "Error processing file: 42216_09295595.pdf\n",
      "Error processing file: 42216_09295595.SIG\n"
     ]
    },
    {
     "name": "stderr",
     "output_type": "stream",
     "text": [
      "Renaming files:  26%|██▌       | 3796/14764 [41:59<1:04:05,  2.85it/s]"
     ]
    },
    {
     "name": "stdout",
     "output_type": "stream",
     "text": [
      "Error processing file: 42575_08492797.hea\n",
      "Error processing file: 42575_08492797.pdf\n",
      "Error processing file: 42575_08492797.SIG\n"
     ]
    },
    {
     "name": "stderr",
     "output_type": "stream",
     "text": [
      "Renaming files:  28%|██▊       | 4195/14764 [46:36<1:57:25,  1.50it/s]\n"
     ]
    },
    {
     "ename": "OSError",
     "evalue": "[Errno 22] Invalid argument",
     "output_type": "error",
     "traceback": [
      "\u001b[1;31m---------------------------------------------------------------------------\u001b[0m",
      "\u001b[1;31mOSError\u001b[0m                                   Traceback (most recent call last)",
      "Cell \u001b[1;32mIn[1], line 39\u001b[0m\n\u001b[0;32m     37\u001b[0m         new_file_path \u001b[38;5;241m=\u001b[39m os\u001b[38;5;241m.\u001b[39mpath\u001b[38;5;241m.\u001b[39mjoin(rename_dir, new_filename)\n\u001b[0;32m     38\u001b[0m         \u001b[38;5;66;03m# 파일 복사\u001b[39;00m\n\u001b[1;32m---> 39\u001b[0m         \u001b[43mshutil\u001b[49m\u001b[38;5;241;43m.\u001b[39;49m\u001b[43mcopy\u001b[49m\u001b[43m(\u001b[49m\u001b[43mold_file_path\u001b[49m\u001b[43m,\u001b[49m\u001b[43m \u001b[49m\u001b[43mnew_file_path\u001b[49m\u001b[43m)\u001b[49m\n\u001b[0;32m     40\u001b[0m         converted_count \u001b[38;5;241m+\u001b[39m\u001b[38;5;241m=\u001b[39m \u001b[38;5;241m1\u001b[39m  \n\u001b[0;32m     41\u001b[0m \u001b[38;5;28;01mexcept\u001b[39;00m \u001b[38;5;167;01mValueError\u001b[39;00m:\n",
      "File \u001b[1;32mc:\\Python312\\Lib\\shutil.py:423\u001b[0m, in \u001b[0;36mcopy\u001b[1;34m(src, dst, follow_symlinks)\u001b[0m\n\u001b[0;32m    421\u001b[0m \u001b[38;5;28;01mif\u001b[39;00m os\u001b[38;5;241m.\u001b[39mpath\u001b[38;5;241m.\u001b[39misdir(dst):\n\u001b[0;32m    422\u001b[0m     dst \u001b[38;5;241m=\u001b[39m os\u001b[38;5;241m.\u001b[39mpath\u001b[38;5;241m.\u001b[39mjoin(dst, os\u001b[38;5;241m.\u001b[39mpath\u001b[38;5;241m.\u001b[39mbasename(src))\n\u001b[1;32m--> 423\u001b[0m \u001b[43mcopyfile\u001b[49m\u001b[43m(\u001b[49m\u001b[43msrc\u001b[49m\u001b[43m,\u001b[49m\u001b[43m \u001b[49m\u001b[43mdst\u001b[49m\u001b[43m,\u001b[49m\u001b[43m \u001b[49m\u001b[43mfollow_symlinks\u001b[49m\u001b[38;5;241;43m=\u001b[39;49m\u001b[43mfollow_symlinks\u001b[49m\u001b[43m)\u001b[49m\n\u001b[0;32m    424\u001b[0m copymode(src, dst, follow_symlinks\u001b[38;5;241m=\u001b[39mfollow_symlinks)\n\u001b[0;32m    425\u001b[0m \u001b[38;5;28;01mreturn\u001b[39;00m dst\n",
      "File \u001b[1;32mc:\\Python312\\Lib\\shutil.py:280\u001b[0m, in \u001b[0;36mcopyfile\u001b[1;34m(src, dst, follow_symlinks)\u001b[0m\n\u001b[0;32m    277\u001b[0m \u001b[38;5;66;03m# Windows, see:\u001b[39;00m\n\u001b[0;32m    278\u001b[0m \u001b[38;5;66;03m# https://github.com/python/cpython/pull/7160#discussion_r195405230\u001b[39;00m\n\u001b[0;32m    279\u001b[0m \u001b[38;5;28;01melif\u001b[39;00m _WINDOWS \u001b[38;5;129;01mand\u001b[39;00m file_size \u001b[38;5;241m>\u001b[39m \u001b[38;5;241m0\u001b[39m:\n\u001b[1;32m--> 280\u001b[0m     \u001b[43m_copyfileobj_readinto\u001b[49m\u001b[43m(\u001b[49m\u001b[43mfsrc\u001b[49m\u001b[43m,\u001b[49m\u001b[43m \u001b[49m\u001b[43mfdst\u001b[49m\u001b[43m,\u001b[49m\u001b[43m \u001b[49m\u001b[38;5;28;43mmin\u001b[39;49m\u001b[43m(\u001b[49m\u001b[43mfile_size\u001b[49m\u001b[43m,\u001b[49m\u001b[43m \u001b[49m\u001b[43mCOPY_BUFSIZE\u001b[49m\u001b[43m)\u001b[49m\u001b[43m)\u001b[49m\n\u001b[0;32m    281\u001b[0m     \u001b[38;5;28;01mreturn\u001b[39;00m dst\n\u001b[0;32m    283\u001b[0m copyfileobj(fsrc, fdst)\n",
      "File \u001b[1;32mc:\\Python312\\Lib\\shutil.py:194\u001b[0m, in \u001b[0;36m_copyfileobj_readinto\u001b[1;34m(fsrc, fdst, length)\u001b[0m\n\u001b[0;32m    192\u001b[0m     \u001b[38;5;28;01mbreak\u001b[39;00m\n\u001b[0;32m    193\u001b[0m \u001b[38;5;28;01melse\u001b[39;00m:\n\u001b[1;32m--> 194\u001b[0m     \u001b[43mfdst_write\u001b[49m\u001b[43m(\u001b[49m\u001b[43mmv\u001b[49m\u001b[43m)\u001b[49m\n",
      "\u001b[1;31mOSError\u001b[0m: [Errno 22] Invalid argument"
     ]
    }
   ],
   "source": [
    "import os\n",
    "import pandas as pd\n",
    "from tqdm import tqdm\n",
    "import shutil  # 파일 복사를 위해 shutil 모듈 사용\n",
    "\n",
    "# 경로 설정\n",
    "csv_path = r'/home/gunoroh/sftp/holter_pid.csv'\n",
    "file_dir =  r'/home/gunoroh/sftp/old_sig'\n",
    "rename_dir = r'/home/gunoroh/sftp/old_sig_cdmid'\n",
    "\n",
    "# old_rename 폴더가 없으면 생성\n",
    "if not os.path.exists(rename_dir):\n",
    "    os.makedirs(rename_dir)\n",
    "\n",
    "# CSV 파일 로드 및 딕셔너리 생성\n",
    "df = pd.read_csv(csv_path)\n",
    "pid_to_cdm_id = df.set_index('pid')['cdm_id'].to_dict()\n",
    "\n",
    "# 파일 리스트 가져오기\n",
    "files = [f for f in os.listdir(file_dir) if '_' in f]\n",
    "\n",
    "converted_count = 0\n",
    "\n",
    "# 파일 이름 변경 및 복사\n",
    "for file in tqdm(files, desc=\"Renaming files\"):\n",
    "    try:\n",
    "        parts = file.split('_')\n",
    "        index_number, pid = parts[0], parts[1].split('.')[0]  # 파일명에서 인덱스 번호와 pid 추출\n",
    "        extension = parts[1].split('.')[1]  # 파일 확장자 추출\n",
    "        cdm_id = pid_to_cdm_id.get(int(pid))  # pid에 대응하는 cdm_id 찾기\n",
    "\n",
    "        if cdm_id:\n",
    "            # cdm_id를 사용해 새로운 파일명 생성\n",
    "            new_filename = f'{index_number}_{int(cdm_id)}.{extension}'  \n",
    "\n",
    "            old_file_path = os.path.join(file_dir, file)\n",
    "            new_file_path = os.path.join(rename_dir, new_filename)\n",
    "            # 파일 복사\n",
    "            shutil.copy(old_file_path, new_file_path)\n",
    "            converted_count += 1  \n",
    "    except ValueError:\n",
    "        print(f'Error processing file: {file}')\n",
    "\n",
    "print(f'Task completed. A total of {converted_count} files were converted and copied to {rename_dir}.')\n"
   ]
  },
  {
   "cell_type": "markdown",
   "metadata": {},
   "source": [
    "## Update .hea Filename "
   ]
  },
  {
   "cell_type": "code",
   "execution_count": 3,
   "metadata": {},
   "outputs": [
    {
     "name": "stderr",
     "output_type": "stream",
     "text": [
      "100%|██████████| 79233/79233 [02:50<00:00, 464.24it/s]"
     ]
    },
    {
     "name": "stdout",
     "output_type": "stream",
     "text": [
      "총 변환된 파일 개수: 26396\n"
     ]
    },
    {
     "name": "stderr",
     "output_type": "stream",
     "text": [
      "\n"
     ]
    }
   ],
   "source": [
    "import os\n",
    "from tqdm import tqdm\n",
    "\n",
    "def replace_filename_in_hea_files(directory):\n",
    "    converted_files_count = 0\n",
    "    \n",
    "    # Traverse the directory and find .hea files\n",
    "    for filename in tqdm(os.listdir(directory)):\n",
    "        if filename.endswith('.hea'):\n",
    "            file_path = os.path.join(directory, filename)\n",
    "\n",
    "            with open(file_path, 'r', encoding='utf-8') as file:\n",
    "                lines = file.readlines()\n",
    "            \n",
    "            # Modify the line\n",
    "            base_filename = filename.replace('.hea', '')\n",
    "            lines[0] = lines[0].replace(lines[0].split()[0], base_filename)\n",
    "            \n",
    "            for i in range(1, len(lines)):\n",
    "                lines[i] = lines[i].replace(lines[i].split()[0], f\"{base_filename}.SIG\")\n",
    "            \n",
    "            with open(file_path, 'w', encoding='utf-8') as file:\n",
    "                file.writelines(lines)\n",
    "            \n",
    "            converted_files_count += 1\n",
    "    \n",
    "    print(f\"Total number of converted files: {converted_files_count}\")\n",
    "\n",
    "directory_path = '/home/ExtendedCDM/Holter/raw_sig/'\n",
    "replace_filename_in_hea_files(directory_path)"
   ]
  }
 ],
 "metadata": {
  "kernelspec": {
   "display_name": "Python 3",
   "language": "python",
   "name": "python3"
  },
  "language_info": {
   "codemirror_mode": {
    "name": "ipython",
    "version": 3
   },
   "file_extension": ".py",
   "mimetype": "text/x-python",
   "name": "python",
   "nbconvert_exporter": "python",
   "pygments_lexer": "ipython3",
   "version": "3.12.0"
  }
 },
 "nbformat": 4,
 "nbformat_minor": 2
}
