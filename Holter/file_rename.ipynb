{
 "cells": [
  {
   "cell_type": "markdown",
   "metadata": {},
   "source": [
    "## PID to CDM_ID File Renaming"
   ]
  },
  {
   "cell_type": "code",
   "execution_count": 5,
   "metadata": {},
   "outputs": [
    {
     "name": "stderr",
     "output_type": "stream",
     "text": [
      "Renaming and moving files: 100%|██████████| 2497/2497 [00:00<00:00, 416229.91it/s]"
     ]
    },
    {
     "name": "stdout",
     "output_type": "stream",
     "text": [
      "Task completed. A total of 0 files were renamed and moved to D:\\extract_cdm.\n"
     ]
    },
    {
     "name": "stderr",
     "output_type": "stream",
     "text": [
      "\n"
     ]
    }
   ],
   "source": [
    "import os\n",
    "import pandas as pd\n",
    "from tqdm import tqdm\n",
    "import shutil  # 파일 이동을 위해 shutil 모듈 사용\n",
    "\n",
    "# 경로 설정\n",
    "csv_path = r'C:\\github\\pt_no_person_id.csv'  ##병록번호와 cdm person_id 가 매칭된 csv 파일\n",
    "file_dir = r'D:\\extract'                    ## sig, hea, xml 파일이 존재하는 경로\n",
    "rename_dir = r'D:\\extract_cdm'              ## person_id 변환 완료된 파일들을 이동시킬 파일경로\n",
    "\n",
    "# rename_dir 폴더가 없으면 생성\n",
    "if not os.path.exists(rename_dir):\n",
    "    os.makedirs(rename_dir)\n",
    "\n",
    "# CSV 파일 로드 및 딕셔너리 생성\n",
    "df = pd.read_csv(csv_path)\n",
    "pt_no_to_person_id = df.set_index('pt_no')['person_id'].to_dict()\n",
    "\n",
    "# 파일 리스트 가져오기\n",
    "files = [f for f in os.listdir(file_dir) if '_' in f]\n",
    "\n",
    "moved_count = 0\n",
    "\n",
    "# 파일 이름 변경 및 이동\n",
    "for file in tqdm(files, desc=\"Renaming and moving files\"):\n",
    "    try:\n",
    "        # 파일명에서 마지막 '_' 다음에 있는 번호를 pt_no로 추출\n",
    "        parts = file.rsplit('_', 1)\n",
    "        base_name, pt_no_with_extension = parts[0], parts[1]\n",
    "        \n",
    "        pt_no, extension = pt_no_with_extension.split('.')  # pt_no와 확장자를 분리\n",
    "        person_id = pt_no_to_person_id.get(int(pt_no))  # pt_no에 대응하는 person_id 찾기\n",
    "\n",
    "        if person_id:\n",
    "            # person_id를 사용해 새로운 파일명 생성\n",
    "            new_filename = f'{base_name}_{int(person_id)}.{extension}'  \n",
    "\n",
    "            old_file_path = os.path.join(file_dir, file)\n",
    "            new_file_path = os.path.join(rename_dir, new_filename)\n",
    "            \n",
    "            # 파일 이동\n",
    "            shutil.move(old_file_path, new_file_path)\n",
    "            moved_count += 1  \n",
    "        else:\n",
    "            # 매칭되는 person_id가 없으면 파일을 원래 폴더에 그대로 둠\n",
    "            continue\n",
    "\n",
    "    except ValueError:\n",
    "        print(f'Error processing file: {file}')\n",
    "\n",
    "print(f'Task completed. A total of {moved_count} files were renamed and moved to {rename_dir}.')\n"
   ]
  },
  {
   "cell_type": "markdown",
   "metadata": {},
   "source": [
    "## Update .hea Filename "
   ]
  },
  {
   "cell_type": "code",
   "execution_count": 6,
   "metadata": {},
   "outputs": [
    {
     "name": "stderr",
     "output_type": "stream",
     "text": [
      "100%|██████████| 22135/22135 [32:38<00:00, 11.30it/s]  "
     ]
    },
    {
     "name": "stdout",
     "output_type": "stream",
     "text": [
      "Total number of converted files: 7348\n"
     ]
    },
    {
     "name": "stderr",
     "output_type": "stream",
     "text": [
      "\n"
     ]
    }
   ],
   "source": [
    "import os\n",
    "from tqdm import tqdm\n",
    "\n",
    "def replace_filename_in_hea_files(directory):\n",
    "    converted_files_count = 0\n",
    "    \n",
    "    # Traverse the directory and find .hea files\n",
    "    for filename in tqdm(os.listdir(directory)):\n",
    "        if filename.endswith('.hea'):\n",
    "            file_path = os.path.join(directory, filename)\n",
    "\n",
    "            try:\n",
    "                with open(file_path, 'r', encoding='utf-8') as file:\n",
    "                    lines = file.readlines()\n",
    "                \n",
    "                # Modify the line\n",
    "                base_filename = filename.replace('.hea', '')\n",
    "                lines[0] = lines[0].replace(lines[0].split()[0], base_filename)\n",
    "                \n",
    "                for i in range(1, len(lines)):\n",
    "                    lines[i] = lines[i].replace(lines[i].split()[0], f\"{base_filename}.SIG\")\n",
    "                \n",
    "                with open(file_path, 'w', encoding='utf-8') as file:\n",
    "                    file.writelines(lines)\n",
    "                \n",
    "                converted_files_count += 1\n",
    "            \n",
    "            except Exception as e:\n",
    "                print(f\"Error processing file: {filename}. Error: {e}\")\n",
    "    \n",
    "    print(f\"Total number of converted files: {converted_files_count}\")\n",
    "\n",
    "directory_path = r'D:\\extract_cdm'\n",
    "replace_filename_in_hea_files(directory_path)\n"
   ]
  },
  {
   "cell_type": "markdown",
   "metadata": {},
   "source": [
    "##  XML 파일을 읽고, PID 값을 파일명에 있는 값으로 변경"
   ]
  },
  {
   "cell_type": "code",
   "execution_count": 10,
   "metadata": {},
   "outputs": [
    {
     "name": "stderr",
     "output_type": "stream",
     "text": [
      "Processing XML files:  95%|█████████▍| 7043/7438 [02:20<00:10, 36.87it/s]"
     ]
    },
    {
     "name": "stdout",
     "output_type": "stream",
     "text": [
      "ParseError: Unable to process 195_5_2222880.xml. The file may be malformed.\n"
     ]
    },
    {
     "name": "stderr",
     "output_type": "stream",
     "text": [
      "Processing XML files: 100%|██████████| 7438/7438 [04:33<00:00, 27.18it/s]"
     ]
    },
    {
     "name": "stdout",
     "output_type": "stream",
     "text": [
      "모든 XML 파일의 PID 값이 변경되었습니다.\n"
     ]
    },
    {
     "name": "stderr",
     "output_type": "stream",
     "text": [
      "\n"
     ]
    }
   ],
   "source": [
    "import os\n",
    "import xml.etree.ElementTree as ET\n",
    "from tqdm import tqdm\n",
    "\n",
    "# 폴더 경로\n",
    "folder_path = r'D:\\extract_cdm'\n",
    "\n",
    "# 폴더 내의 모든 XML 파일을 확인\n",
    "xml_files = [file for file in os.listdir(folder_path) if file.endswith('.xml')]\n",
    "\n",
    "# tqdm을 사용하여 진행 상황 표시\n",
    "for file_name in tqdm(xml_files, desc=\"Processing XML files\"):\n",
    "    file_path = os.path.join(folder_path, file_name)\n",
    "    \n",
    "    try:\n",
    "        # 파일명에서 '_' 뒤의 값을 추출\n",
    "        new_pid = file_name.split('_')[-1].split('.')[0]\n",
    "        \n",
    "        # XML 파일 로드\n",
    "        tree = ET.parse(file_path)\n",
    "        root = tree.getroot()\n",
    "        \n",
    "        # PID 태그를 찾고 값을 새로운 PID로 변경\n",
    "        for pid in root.iter('PID'):\n",
    "            pid.text = new_pid\n",
    "        \n",
    "        # 변경된 XML을 파일에 다시 저장\n",
    "        tree.write(file_path)\n",
    "    \n",
    "    except ET.ParseError:\n",
    "        print(f\"ParseError: Unable to process {file_name}. The file may be malformed.\")\n",
    "    except Exception as e:\n",
    "        print(f\"An error occurred while processing {file_name}: {e}\")\n",
    "\n",
    "print(\"모든 XML 파일의 PID 값이 변경되었습니다.\")\n"
   ]
  },
  {
   "cell_type": "code",
   "execution_count": null,
   "metadata": {},
   "outputs": [],
   "source": []
  }
 ],
 "metadata": {
  "kernelspec": {
   "display_name": "Python 3",
   "language": "python",
   "name": "python3"
  },
  "language_info": {
   "codemirror_mode": {
    "name": "ipython",
    "version": 3
   },
   "file_extension": ".py",
   "mimetype": "text/x-python",
   "name": "python",
   "nbconvert_exporter": "python",
   "pygments_lexer": "ipython3",
   "version": "3.11.9"
  }
 },
 "nbformat": 4,
 "nbformat_minor": 2
}
