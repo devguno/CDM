{
 "cells": [
  {
   "cell_type": "markdown",
   "metadata": {},
   "source": [
    "## 파일 개수 세는 코드"
   ]
  },
  {
   "cell_type": "code",
   "execution_count": 5,
   "metadata": {},
   "outputs": [
    {
     "name": "stdout",
     "output_type": "stream",
     "text": [
      "The number of files in '/home/ExtendedCDM/Holter/xml' is: 24597\n"
     ]
    }
   ],
   "source": [
    "import os\n",
    "\n",
    "# 경로 설정\n",
    "directory_path = '/home/ExtendedCDM/Holter/xml'\n",
    "\n",
    "# 파일 개수 계산\n",
    "def count_files(directory):\n",
    "    try:\n",
    "        return len([name for name in os.listdir(directory) if os.path.isfile(os.path.join(directory, name))])\n",
    "    except FileNotFoundError:\n",
    "        return \"Directory not found.\"\n",
    "    except Exception as e:\n",
    "        return str(e)\n",
    "\n",
    "# 결과 출력\n",
    "file_count = count_files(directory_path)\n",
    "print(f\"The number of files in '{directory_path}' is: {file_count}\")\n"
   ]
  },
  {
   "cell_type": "code",
   "execution_count": 1,
   "metadata": {},
   "outputs": [
    {
     "name": "stdout",
     "output_type": "stream",
     "text": [
      "The number of files in '/home/ExtendedCDM/Holter/backup2' is: 79233\n"
     ]
    }
   ],
   "source": [
    "import os\n",
    "\n",
    "# 경로 설정\n",
    "directory_path = '/home/ExtendedCDM/Holter/backup2'\n",
    "\n",
    "# 파일 개수 계산\n",
    "def count_files(directory):\n",
    "    try:\n",
    "        return len([name for name in os.listdir(directory) if os.path.isfile(os.path.join(directory, name))])\n",
    "    except FileNotFoundError:\n",
    "        return \"Directory not found.\"\n",
    "    except Exception as e:\n",
    "        return str(e)\n",
    "\n",
    "# 결과 출력\n",
    "file_count = count_files(directory_path)\n",
    "print(f\"The number of files in '{directory_path}' is: {file_count}\")\n"
   ]
  }
 ],
 "metadata": {
  "kernelspec": {
   "display_name": "Python 3",
   "language": "python",
   "name": "python3"
  },
  "language_info": {
   "codemirror_mode": {
    "name": "ipython",
    "version": 3
   },
   "file_extension": ".py",
   "mimetype": "text/x-python",
   "name": "python",
   "nbconvert_exporter": "python",
   "pygments_lexer": "ipython3",
   "version": "3.8.10"
  }
 },
 "nbformat": 4,
 "nbformat_minor": 2
}
