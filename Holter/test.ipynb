{
 "cells": [
  {
   "cell_type": "code",
   "execution_count": 2,
   "metadata": {},
   "outputs": [
    {
     "name": "stdout",
     "output_type": "stream",
     "text": [
      "Original number of rows: 26439\n",
      "Number of rows after deduplication: 24274\n",
      "        PID HookupDate           HookupDateTime            Filename\n",
      "0  71670247 2014-02-17  2014-02-17 11:30:00.000  15924_71670247.xml\n",
      "1  75076443 2010-07-22  2010-07-22 11:57:00.000  11607_75076443.xml\n",
      "2  71341765 2017-09-18  2017-09-18 14:08:00.000  21430_71341765.xml\n",
      "3  76262456 2018-08-09  2018-08-09 12:06:00.000  22538_76262456.xml\n",
      "4  54115891 2022-06-27  2022-06-27 13:55:00.000  34578_54115891.xml\n"
     ]
    }
   ],
   "source": [
    "import pandas as pd\n",
    "\n",
    "# CSV 파일 경로\n",
    "csv_path = 'Z:\\\\Holter\\\\patient_info.csv'\n",
    "output_csv_path = 'Z:\\\\Holter\\\\patient_info_deduplicated.csv'\n",
    "\n",
    "# CSV 파일 읽기\n",
    "df = pd.read_csv(csv_path)\n",
    "\n",
    "# HookupDate를 datetime 형식으로 변환 (필요한 경우)\n",
    "df['HookupDate'] = pd.to_datetime(df['HookupDate'], format='%Y-%m-%d')\n",
    "\n",
    "# 중복된 (PID, HookupDate) 제거\n",
    "df_deduplicated = df.drop_duplicates(subset=['PID', 'HookupDate'])\n",
    "\n",
    "# 결과 저장\n",
    "df_deduplicated.to_csv(output_csv_path, index=False)\n",
    "\n",
    "# 결과 출력\n",
    "print(f\"Original number of rows: {len(df)}\")\n",
    "print(f\"Number of rows after deduplication: {len(df_deduplicated)}\")\n",
    "print(df_deduplicated.head())\n"
   ]
  },
  {
   "cell_type": "code",
   "execution_count": 3,
   "metadata": {},
   "outputs": [
    {
     "name": "stdout",
     "output_type": "stream",
     "text": [
      "Unique total number of patients: 15418\n"
     ]
    }
   ],
   "source": [
    "import pandas as pd\n",
    "\n",
    "# 중복 제거된 CSV 파일 경로\n",
    "deduplicated_csv_path = 'Z:\\\\Holter\\\\patient_info_deduplicated.csv'\n",
    "\n",
    "# CSV 파일 읽기\n",
    "df_deduplicated = pd.read_csv(deduplicated_csv_path)\n",
    "\n",
    "# 전체 유니크 환자 수 계산\n",
    "unique_patients = df_deduplicated['PID'].nunique()\n",
    "\n",
    "# 결과 출력\n",
    "print(f\"Unique total number of patients: {unique_patients}\")\n"
   ]
  }
 ],
 "metadata": {
  "kernelspec": {
   "display_name": "Python 3",
   "language": "python",
   "name": "python3"
  },
  "language_info": {
   "codemirror_mode": {
    "name": "ipython",
    "version": 3
   },
   "file_extension": ".py",
   "mimetype": "text/x-python",
   "name": "python",
   "nbconvert_exporter": "python",
   "pygments_lexer": "ipython3",
   "version": "3.12.0"
  }
 },
 "nbformat": 4,
 "nbformat_minor": 2
}
