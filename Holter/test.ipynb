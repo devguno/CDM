{
 "cells": [
  {
   "cell_type": "code",
   "execution_count": 2,
   "metadata": {},
   "outputs": [
    {
     "name": "stdout",
     "output_type": "stream",
     "text": [
      "0\n"
     ]
    }
   ],
   "source": [
    "import pandas as pd\n",
    "import os\n",
    "import xml.etree.ElementTree as ET\n",
    "\n",
    "directory = 'Z:/Holter/xml/adult'\n",
    "find = 'AFAFL'\n",
    "test_count = 0\n",
    "\n",
    "for filename in os.listdir(directory):\n",
    "    file_path = os.path.join(directory, filename)\n",
    "\n",
    "    tree = ET.parse(file_path)\n",
    "    root = tree.getroot()\n",
    "    general = root.find('General')\n",
    "\n",
    "    for subchild in general:\n",
    "        if subchild.tag.endswith(find):\n",
    "            test_count += 1\n",
    "            print(f'{filename} have AF')\n",
    "        \n",
    "print(test_count)"
   ]
  },
  {
   "cell_type": "code",
   "execution_count": 2,
   "metadata": {},
   "outputs": [
    {
     "name": "stdout",
     "output_type": "stream",
     "text": [
      "Original number of rows: 26439\n",
      "Number of rows after deduplication: 24274\n",
      "        PID HookupDate           HookupDateTime            Filename\n",
      "0  71670247 2014-02-17  2014-02-17 11:30:00.000  15924_71670247.xml\n",
      "1  75076443 2010-07-22  2010-07-22 11:57:00.000  11607_75076443.xml\n",
      "2  71341765 2017-09-18  2017-09-18 14:08:00.000  21430_71341765.xml\n",
      "3  76262456 2018-08-09  2018-08-09 12:06:00.000  22538_76262456.xml\n",
      "4  54115891 2022-06-27  2022-06-27 13:55:00.000  34578_54115891.xml\n"
     ]
    }
   ],
   "source": [
    "import pandas as pd\n",
    "\n",
    "# CSV 파일 경로\n",
    "csv_path = 'Z:\\\\Holter\\\\patient_info.csv'\n",
    "output_csv_path = 'Z:\\\\Holter\\\\patient_info_deduplicated.csv'\n",
    "\n",
    "# CSV 파일 읽기\n",
    "df = pd.read_csv(csv_path)\n",
    "\n",
    "# HookupDate를 datetime 형식으로 변환 (필요한 경우)\n",
    "df['HookupDate'] = pd.to_datetime(df['HookupDate'], format='%Y-%m-%d')\n",
    "\n",
    "# 중복된 (PID, HookupDate) 제거\n",
    "df_deduplicated = df.drop_duplicates(subset=['PID', 'HookupDate'])\n",
    "\n",
    "# 결과 저장\n",
    "df_deduplicated.to_csv(output_csv_path, index=False)\n",
    "\n",
    "# 결과 출력\n",
    "print(f\"Original number of rows: {len(df)}\")\n",
    "print(f\"Number of rows after deduplication: {len(df_deduplicated)}\")\n",
    "print(df_deduplicated.head())\n"
   ]
  },
  {
   "cell_type": "code",
   "execution_count": 3,
   "metadata": {},
   "outputs": [
    {
     "name": "stdout",
     "output_type": "stream",
     "text": [
      "Unique total number of patients: 15418\n"
     ]
    }
   ],
   "source": [
    "import pandas as pd\n",
    "\n",
    "# 중복 제거된 CSV 파일 경로\n",
    "deduplicated_csv_path = 'Z:\\\\Holter\\\\patient_info_deduplicated.csv'\n",
    "\n",
    "# CSV 파일 읽기\n",
    "df_deduplicated = pd.read_csv(deduplicated_csv_path)\n",
    "\n",
    "# 전체 유니크 환자 수 계산\n",
    "unique_patients = df_deduplicated['PID'].nunique()\n",
    "\n",
    "# 결과 출력\n",
    "print(f\"Unique total number of patients: {unique_patients}\")\n"
   ]
  },
  {
   "cell_type": "code",
   "execution_count": 2,
   "metadata": {},
   "outputs": [
    {
     "name": "stdout",
     "output_type": "stream",
     "text": [
      "Location: Unknown\n",
      "HOLTER REPORT\n",
      "PARK, JEONG JA\n",
      "Patient Name:\n",
      "25013973\n",
      "ID:\n",
      "37 yr\n",
      "Age:\n",
      "Female\n",
      "Gender:\n",
      "Date of Birth:\n",
      ", \n",
      "Overreading Physician:\n",
      ", \n",
      "Referring Physician:\n",
      ", \n",
      "Ordering Physician:\n",
      ", \n",
      "Hook-Up Technician:\n",
      "Analyzing Technician: , \n",
      "Indication/Diagnosis:\n",
      "Medications:\n",
      "Medications:\n",
      "04-Apr-2019\n",
      "Hookup Date:\n",
      "08:40:00\n",
      "Hookup Time:\n",
      "23:47:00\n",
      "Duration:\n",
      "810640b1\n",
      "Recorder Serial #:\n",
      "Order #:\n",
      "General\n",
      "109918 QRS complexes\n",
      "0 Ventricular beats (< 1%)\n",
      "10 Supraventricular beats (< 1%)\n",
      "2 % of total time classified as noise\n",
      "Heart Rates\n",
      "57 Minimum at 07:14:51 05-Apr\n",
      "79 Average\n",
      "127 Maximum at 08:03:09 05-Apr\n",
      "7705 Beats in tachycardia (>=100 bpm), 7% total\n",
      "486 Beats in bradycardia (<=60 bpm), < 1% total\n",
      "1.19 Seconds Max R-R at 06:51:24 05-Apr\n",
      "Ventriculars (V, F, E, I)\n",
      "0 Isolated\n",
      "0 Couplets\n",
      "0 Bigeminal cycles\n",
      "0 Runs totaling 0 beats\n",
      "Supraventriculars (S, J, A)\n",
      "7 Isolated\n",
      "0 Couplets\n",
      "0 Bigeminal cycles\n",
      "1 Runs totaling 3 beats\n",
      "3 Beats longest run 120 bpm 22:30:43 04-Apr\n",
      "3 Beats fastest run 120 bpm 22:30:43 04-Apr\n",
      "ST Lead 1\n",
      "-- mm at --\n",
      "-- mm at --\n",
      "ST Lead 2\n",
      "-- mm at --\n",
      "-- mm at --\n",
      "ST Lead 3\n",
      "-- mm at --\n",
      "-- mm at --\n",
      "Interpretation\n",
      "Signed:________________________________\n",
      "Date:______________\n",
      "Page 1 of 11\n",
      "Version: 8.0 SP5\n",
      "(fpps)\n",
      "\n"
     ]
    }
   ],
   "source": [
    "import fitz  # PyMuPDF\n",
    "\n",
    "pdf_path = 'Z:\\\\Holter\\\\extract\\\\Holter_gangnam_extract\\\\5189_25013973.pdf'  # 경로를 실제 파일 경로로 수정하세요\n",
    "pdf_doc = fitz.open(pdf_path)\n",
    "page = pdf_doc.load_page(0)\n",
    "extracted_text = page.get_text()\n",
    "\n",
    "print(extracted_text)\n"
   ]
  }
 ],
 "metadata": {
  "kernelspec": {
   "display_name": "Python 3",
   "language": "python",
   "name": "python3"
  },
  "language_info": {
   "codemirror_mode": {
    "name": "ipython",
    "version": 3
   },
   "file_extension": ".py",
   "mimetype": "text/x-python",
   "name": "python",
   "nbconvert_exporter": "python",
   "pygments_lexer": "ipython3",
   "version": "3.12.0"
  }
 },
 "nbformat": 4,
 "nbformat_minor": 2
}
