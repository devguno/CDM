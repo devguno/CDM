{
 "cells": [
  {
   "cell_type": "code",
   "execution_count": 2,
   "metadata": {},
   "outputs": [
    {
     "name": "stdout",
     "output_type": "stream",
     "text": [
      "Original number of rows: 26439\n",
      "Number of rows after deduplication: 24274\n",
      "        PID HookupDate           HookupDateTime            Filename\n",
      "0  71670247 2014-02-17  2014-02-17 11:30:00.000  15924_71670247.xml\n",
      "1  75076443 2010-07-22  2010-07-22 11:57:00.000  11607_75076443.xml\n",
      "2  71341765 2017-09-18  2017-09-18 14:08:00.000  21430_71341765.xml\n",
      "3  76262456 2018-08-09  2018-08-09 12:06:00.000  22538_76262456.xml\n",
      "4  54115891 2022-06-27  2022-06-27 13:55:00.000  34578_54115891.xml\n"
     ]
    }
   ],
   "source": [
    "import pandas as pd\n",
    "\n",
    "# CSV 파일 경로\n",
    "csv_path = 'Z:\\\\Holter\\\\patient_info.csv'\n",
    "output_csv_path = 'Z:\\\\Holter\\\\patient_info_deduplicated.csv'\n",
    "\n",
    "# CSV 파일 읽기\n",
    "df = pd.read_csv(csv_path)\n",
    "\n",
    "# HookupDate를 datetime 형식으로 변환 (필요한 경우)\n",
    "df['HookupDate'] = pd.to_datetime(df['HookupDate'], format='%Y-%m-%d')\n",
    "\n",
    "# 중복된 (PID, HookupDate) 제거\n",
    "df_deduplicated = df.drop_duplicates(subset=['PID', 'HookupDate'])\n",
    "\n",
    "# 결과 저장\n",
    "df_deduplicated.to_csv(output_csv_path, index=False)\n",
    "\n",
    "# 결과 출력\n",
    "print(f\"Original number of rows: {len(df)}\")\n",
    "print(f\"Number of rows after deduplication: {len(df_deduplicated)}\")\n",
    "print(df_deduplicated.head())\n"
   ]
  },
  {
   "cell_type": "code",
   "execution_count": 3,
   "metadata": {},
   "outputs": [
    {
     "name": "stdout",
     "output_type": "stream",
     "text": [
      "Unique total number of patients: 15418\n"
     ]
    }
   ],
   "source": [
    "import pandas as pd\n",
    "\n",
    "# 중복 제거된 CSV 파일 경로\n",
    "deduplicated_csv_path = 'Z:\\\\Holter\\\\patient_info_deduplicated.csv'\n",
    "\n",
    "# CSV 파일 읽기\n",
    "df_deduplicated = pd.read_csv(deduplicated_csv_path)\n",
    "\n",
    "# 전체 유니크 환자 수 계산\n",
    "unique_patients = df_deduplicated['PID'].nunique()\n",
    "\n",
    "# 결과 출력\n",
    "print(f\"Unique total number of patients: {unique_patients}\")\n"
   ]
  },
  {
   "cell_type": "code",
   "execution_count": 11,
   "metadata": {},
   "outputs": [
    {
     "name": "stdout",
     "output_type": "stream",
     "text": [
      "Total number of samples in the record: 0\n"
     ]
    },
    {
     "ename": "ValueError",
     "evalue": "sampto must be greater than sampfrom",
     "output_type": "error",
     "traceback": [
      "\u001b[1;31m---------------------------------------------------------------------------\u001b[0m",
      "\u001b[1;31mValueError\u001b[0m                                Traceback (most recent call last)",
      "Cell \u001b[1;32mIn[11], line 18\u001b[0m\n\u001b[0;32m     15\u001b[0m sampto \u001b[38;5;241m=\u001b[39m \u001b[38;5;28mmin\u001b[39m(\u001b[38;5;241m1000\u001b[39m, num_samples)\n\u001b[0;32m     17\u001b[0m \u001b[38;5;66;03m# .hea 파일 읽기 (부분적으로)\u001b[39;00m\n\u001b[1;32m---> 18\u001b[0m record \u001b[38;5;241m=\u001b[39m \u001b[43mwfdb\u001b[49m\u001b[38;5;241;43m.\u001b[39;49m\u001b[43mrdrecord\u001b[49m\u001b[43m(\u001b[49m\u001b[43mrecord_path\u001b[49m\u001b[43m,\u001b[49m\u001b[43m \u001b[49m\u001b[43msampfrom\u001b[49m\u001b[38;5;241;43m=\u001b[39;49m\u001b[43msampfrom\u001b[49m\u001b[43m,\u001b[49m\u001b[43m \u001b[49m\u001b[43msampto\u001b[49m\u001b[38;5;241;43m=\u001b[39;49m\u001b[43msampto\u001b[49m\u001b[43m)\u001b[49m\n\u001b[0;32m     20\u001b[0m \u001b[38;5;66;03m# .ann 파일 읽기 (전체 주석 읽기)\u001b[39;00m\n\u001b[0;32m     21\u001b[0m annotation \u001b[38;5;241m=\u001b[39m wfdb\u001b[38;5;241m.\u001b[39mrdann(record_path, \u001b[38;5;124m'\u001b[39m\u001b[38;5;124matr\u001b[39m\u001b[38;5;124m'\u001b[39m)\n",
      "File \u001b[1;32mc:\\Python312\\Lib\\site-packages\\wfdb\\io\\record.py:2087\u001b[0m, in \u001b[0;36mrdrecord\u001b[1;34m(record_name, sampfrom, sampto, channels, physical, pn_dir, m2s, smooth_frames, ignore_skew, return_res, force_channels, channel_names, warn_empty)\u001b[0m\n\u001b[0;32m   2084\u001b[0m     channels \u001b[38;5;241m=\u001b[39m \u001b[38;5;28mlist\u001b[39m(\u001b[38;5;28mrange\u001b[39m(record\u001b[38;5;241m.\u001b[39mn_sig))\n\u001b[0;32m   2086\u001b[0m \u001b[38;5;66;03m# Ensure that input fields are valid for the record\u001b[39;00m\n\u001b[1;32m-> 2087\u001b[0m \u001b[43mrecord\u001b[49m\u001b[38;5;241;43m.\u001b[39;49m\u001b[43mcheck_read_inputs\u001b[49m\u001b[43m(\u001b[49m\n\u001b[0;32m   2088\u001b[0m \u001b[43m    \u001b[49m\u001b[43msampfrom\u001b[49m\u001b[43m,\u001b[49m\u001b[43m \u001b[49m\u001b[43msampto\u001b[49m\u001b[43m,\u001b[49m\u001b[43m \u001b[49m\u001b[43mchannels\u001b[49m\u001b[43m,\u001b[49m\u001b[43m \u001b[49m\u001b[43mphysical\u001b[49m\u001b[43m,\u001b[49m\u001b[43m \u001b[49m\u001b[43msmooth_frames\u001b[49m\u001b[43m,\u001b[49m\u001b[43m \u001b[49m\u001b[43mreturn_res\u001b[49m\n\u001b[0;32m   2089\u001b[0m \u001b[43m\u001b[49m\u001b[43m)\u001b[49m\n\u001b[0;32m   2091\u001b[0m \u001b[38;5;66;03m# If the signal doesn't have the specified channels, there will be\u001b[39;00m\n\u001b[0;32m   2092\u001b[0m \u001b[38;5;66;03m# no signal. Recall that `rdsamp` is not called on segments of multi\u001b[39;00m\n\u001b[0;32m   2093\u001b[0m \u001b[38;5;66;03m# segment records if the channels are not present, so this won't\u001b[39;00m\n\u001b[0;32m   2094\u001b[0m \u001b[38;5;66;03m# break anything.\u001b[39;00m\n\u001b[0;32m   2095\u001b[0m \u001b[38;5;28;01mif\u001b[39;00m \u001b[38;5;129;01mnot\u001b[39;00m \u001b[38;5;28mlen\u001b[39m(channels):\n",
      "File \u001b[1;32mc:\\Python312\\Lib\\site-packages\\wfdb\\io\\record.py:628\u001b[0m, in \u001b[0;36mBaseRecord.check_read_inputs\u001b[1;34m(self, sampfrom, sampto, channels, physical, smooth_frames, return_res)\u001b[0m\n\u001b[0;32m    626\u001b[0m     \u001b[38;5;28;01mraise\u001b[39;00m \u001b[38;5;167;01mValueError\u001b[39;00m(\u001b[38;5;124m\"\u001b[39m\u001b[38;5;124msampto must be shorter than the signal length\u001b[39m\u001b[38;5;124m\"\u001b[39m)\n\u001b[0;32m    627\u001b[0m \u001b[38;5;28;01mif\u001b[39;00m sampto \u001b[38;5;241m<\u001b[39m\u001b[38;5;241m=\u001b[39m sampfrom:\n\u001b[1;32m--> 628\u001b[0m     \u001b[38;5;28;01mraise\u001b[39;00m \u001b[38;5;167;01mValueError\u001b[39;00m(\u001b[38;5;124m\"\u001b[39m\u001b[38;5;124msampto must be greater than sampfrom\u001b[39m\u001b[38;5;124m\"\u001b[39m)\n\u001b[0;32m    630\u001b[0m \u001b[38;5;66;03m# Channel Ranges\u001b[39;00m\n\u001b[0;32m    631\u001b[0m \u001b[38;5;28;01mif\u001b[39;00m \u001b[38;5;28mlen\u001b[39m(channels):\n",
      "\u001b[1;31mValueError\u001b[0m: sampto must be greater than sampfrom"
     ]
    }
   ],
   "source": [
    "import wfdb\n",
    "import matplotlib.pyplot as plt\n",
    "\n",
    "# .hea 파일과 .ann 파일이 있는 디렉토리 경로\n",
    "record_path = 'D:/extract/qwe'\n",
    "\n",
    "\n",
    "# .hea 파일의 메타데이터를 먼저 읽어서 길이를 확인\n",
    "record_info = wfdb.rdheader(record_path)\n",
    "num_samples = record_info.sig_len\n",
    "print(f\"Total number of samples in the record: {num_samples}\")\n",
    "\n",
    "# 샘플 범위 설정 (예: 처음 1000개의 샘플만 읽기)\n",
    "sampfrom = 0\n",
    "sampto = min(1000, num_samples)\n",
    "\n",
    "# .hea 파일 읽기 (부분적으로)\n",
    "record = wfdb.rdrecord(record_path, sampfrom=sampfrom, sampto=sampto)\n",
    "\n",
    "# .ann 파일 읽기 (전체 주석 읽기)\n",
    "annotation = wfdb.rdann(record_path, 'atr')\n",
    "\n",
    "# 신호와 annotation 출력\n",
    "print(f\"Record: {record.__dict__}\")\n",
    "print(f\"Annotation: {annotation.__dict__}\")\n",
    "\n",
    "# 신호 플로팅\n",
    "wfdb.plot_wfdb(record=record, annotation=annotation, title='ECG Record with Annotations')\n",
    "\n",
    "# 플로팅된 신호를 보여줌\n",
    "plt.show()\n"
   ]
  },
  {
   "cell_type": "code",
   "execution_count": 6,
   "metadata": {},
   "outputs": [
    {
     "ename": "NameError",
     "evalue": "name 'annotation' is not defined",
     "output_type": "error",
     "traceback": [
      "\u001b[1;31m---------------------------------------------------------------------------\u001b[0m",
      "\u001b[1;31mNameError\u001b[0m                                 Traceback (most recent call last)",
      "Cell \u001b[1;32mIn[6], line 1\u001b[0m\n\u001b[1;32m----> 1\u001b[0m \u001b[43mannotation\u001b[49m\n",
      "\u001b[1;31mNameError\u001b[0m: name 'annotation' is not defined"
     ]
    }
   ],
   "source": [
    "annotation"
   ]
  }
 ],
 "metadata": {
  "kernelspec": {
   "display_name": "Python 3",
   "language": "python",
   "name": "python3"
  },
  "language_info": {
   "codemirror_mode": {
    "name": "ipython",
    "version": 3
   },
   "file_extension": ".py",
   "mimetype": "text/x-python",
   "name": "python",
   "nbconvert_exporter": "python",
   "pygments_lexer": "ipython3",
   "version": "3.12.0"
  }
 },
 "nbformat": 4,
 "nbformat_minor": 2
}
